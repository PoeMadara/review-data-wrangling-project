{
 "cells": [
  {
   "cell_type": "code",
   "execution_count": null,
   "metadata": {},
   "outputs": [],
   "source": [
    "# Importar las bibliotecas necesarias\n",
    "import pandas as pd\n",
    "from functions import clean_and_combine, get_vix_data, get_interest_data, get_cpi_inflation_data, calculate_investment_evolution, graficar_evolucion_inversion  # Importar funciones\n",
    "\n",
    "# Cargar los archivos CSV que contienen los datos de oro, bitcoin y S&P 500\n",
    "# Los archivos son fuentes de datos históricos que se analizarán y combinarán en un único dataframe\n",
    "df_gold = pd.read_csv(r'C:\\Users\\usr\\Documents\\GitHub\\gold_vs_bitcoin\\df_gold.csv')\n",
    "df_bitcoin = pd.read_csv(r'C:\\Users\\usr\\Documents\\GitHub\\gold_vs_bitcoin\\df_bitcoin.csv')\n",
    "df_sp500 = pd.read_csv(r'C:\\Users\\usr\\Documents\\GitHub\\gold_vs_bitcoin\\df_sp500.csv')\n",
    "\n",
    "# Obtener los datos externos desde fuentes API o servicios como Yahoo Finance\n",
    "# 1. Datos del VIX (índice del miedo, volatilidad implícita)\n",
    "df_vix = get_vix_data()\n",
    "\n",
    "# 2. Datos de la tasa de interés de la Reserva Federal\n",
    "df_interest = get_interest_data()\n",
    "\n",
    "# 3. Datos del Índice de Precios al Consumidor (CPI) e inflación\n",
    "df_cpi_inflation = get_cpi_inflation_data()\n",
    "\n",
    "# Combinar y limpiar todos los datasets: oro, bitcoin, S&P 500, VIX, tasa de interés y CPI/inflación\n",
    "# Esta función combina todos los dataframes, estandariza las fechas y ajusta los valores para que puedan ser comparados\n",
    "df_combined = clean_and_combine(df_gold, df_bitcoin, df_sp500, df_vix, df_interest, df_cpi_inflation)\n",
    "\n",
    "# Calcular la evolución de la inversión, sumando $100 mensuales en Bitcoin, Oro y S&P 500\n",
    "# Esta función calcula el rendimiento de la inversión y lo añade directamente a 'df_combined'\n",
    "df_combined = calculate_investment_evolution(df_combined)\n",
    "\n",
    "# Mostrar el dataframe combinado en Jupyter Notebook\n",
    "df_combined\n",
    "\n",
    "# Llamar a la función para graficar la evolución de la inversión\n",
    "graficar_evolucion_inversion(df_combined)"
   ]
  },
  {
   "cell_type": "code",
   "execution_count": null,
   "metadata": {},
   "outputs": [],
   "source": [
    "df_combined.sample(30)"
   ]
  },
  {
   "cell_type": "code",
   "execution_count": null,
   "metadata": {},
   "outputs": [],
   "source": [
    "import matplotlib.pyplot as plt\n",
    "\n",
    "plt.figure(figsize=(10, 6))\n",
    "plt.plot(df_combined['date'], df_combined['interest_rate'], marker='o')\n",
    "plt.title('Evolución de la tasa de interés de la Reserva Federal')\n",
    "plt.xlabel('Fecha')\n",
    "plt.ylabel('Tasa de interés (%)')\n",
    "plt.grid(True)\n",
    "plt.show()"
   ]
  },
  {
   "cell_type": "code",
   "execution_count": null,
   "metadata": {},
   "outputs": [],
   "source": [
    "import matplotlib.pyplot as plt\n",
    "\n",
    "# Función para visualizar los datos de CPI e inflación\n",
    "def visualizar_cpi_inflation(df_combined):\n",
    "    plt.figure(figsize=(10, 6))\n",
    "\n",
    "    # Graficar la interpolación diaria del CPI\n",
    "    plt.plot(df_combined['date'], df_combined['cpi'], label='CPI Diario Interpolado', color='blue')\n",
    "\n",
    "    # Graficar la inflación interpolada\n",
    "    plt.plot(df_combined['date'], df_combined['inflation'], label='Inflación Interpolada', color='green')\n",
    "\n",
    "    # Etiquetas y título del gráfico\n",
    "    plt.title('Evolución diaria del CPI e Inflación')\n",
    "    plt.xlabel('Fecha')\n",
    "    plt.ylabel('Valor')\n",
    "    plt.legend()\n",
    "    plt.grid(True)\n",
    "    plt.show()\n",
    "\n",
    "# Llamar a la función para visualizar el CPI e inflación en el dataframe combinado\n",
    "visualizar_cpi_inflation(df_combined)"
   ]
  }
 ],
 "metadata": {
  "kernelspec": {
   "display_name": "gold_bitcoin_sp500",
   "language": "python",
   "name": "python3"
  },
  "language_info": {
   "codemirror_mode": {
    "name": "ipython",
    "version": 3
   },
   "file_extension": ".py",
   "mimetype": "text/x-python",
   "name": "python",
   "nbconvert_exporter": "python",
   "pygments_lexer": "ipython3",
   "version": "3.12.5"
  }
 },
 "nbformat": 4,
 "nbformat_minor": 2
}
