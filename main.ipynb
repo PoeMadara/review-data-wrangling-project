{
 "cells": [
  {
   "cell_type": "code",
   "execution_count": null,
   "metadata": {},
   "outputs": [],
   "source": [
    "# Importar las bibliotecas necesarias\n",
    "import pandas as pd\n",
    "import matplotlib.pyplot as plt \n",
    "from functions import clean_and_combine, get_vix_data, get_interest_data, get_cpi_inflation_data, calculate_investment_evolution # Importar funciones\n",
    "\n",
    "# Cargar los archivos CSV que contienen los datos de oro, bitcoin y S&P 500\n",
    "# Los archivos son fuentes de datos históricos que se analizarán y combinarán en un único dataframe\n",
    "df_gold = pd.read_csv(r'C:\\Users\\usr\\Documents\\GitHub\\data-wrangling-project\\df_gold.csv')\n",
    "df_bitcoin = pd.read_csv(r'C:\\Users\\usr\\Documents\\GitHub\\data-wrangling-project\\df_bitcoin.csv')\n",
    "df_sp500 = pd.read_csv(r'C:\\Users\\usr\\Documents\\GitHub\\data-wrangling-project\\df_sp500.csv')\n",
    "\n",
    "# Obtener los datos externos desde fuentes API o servicios como Yahoo Finance\n",
    "# 1. Datos del VIX (índice del miedo, volatilidad implícita)\n",
    "df_vix = get_vix_data()\n",
    "\n",
    "# 2. Datos de la tasa de interés de la Reserva Federal\n",
    "df_interest = get_interest_data()\n",
    "\n",
    "# 3. Datos del Índice de Precios al Consumidor (CPI) e inflación\n",
    "df_cpi_inflation = get_cpi_inflation_data()\n",
    "\n",
    "# Combinar y limpiar todos los datasets: oro, bitcoin, S&P 500, VIX, tasa de interés y CPI/inflación\n",
    "# Esta función combina todos los dataframes, estandariza las fechas y ajusta los valores para que puedan ser comparados\n",
    "df_combined = clean_and_combine(df_gold, df_bitcoin, df_sp500, df_vix, df_interest, df_cpi_inflation)\n",
    "\n",
    "# Calcular la evolución de la inversión, sumando $100 mensuales en Bitcoin, Oro y S&P 500\n",
    "# Esta función calcula el rendimiento de la inversión y lo añade directamente a 'df_combined'\n",
    "df_combined = calculate_investment_evolution(df_combined)\n",
    "\n",
    "# Mostrar el dataframe combinado en Jupyter Notebook\n",
    "df_combined"
   ]
  },
  {
   "cell_type": "markdown",
   "metadata": {},
   "source": [
    " ##### Evolución de Precios: Bitcoin, Oro y S&P 500\n",
    "- Gráfico: Gráfico de líneas que muestra la evolución de los precios de bitcoin, oro y S&P 500 a lo largo del tiempo.\n",
    "- Justificación: Este gráfico es la base del análisis y proporcionará una perspectiva clara sobre cómo se han comportado estos tres activos desde una perspectiva histórica. Bitcoin, por su volatilidad, mostrará picos y caídas, mientras que el oro y el S&P 500 serán mucho más estables. Nos permitirá hablar de la volatilidad frente a la estabilidad y de la tendencia de crecimiento a largo plazo de bitcoin."
   ]
  },
  {
   "cell_type": "code",
   "execution_count": null,
   "metadata": {},
   "outputs": [],
   "source": [
    "plt.figure(figsize=(10, 6))\n",
    "plt.plot(df_combined['date'], df_combined['price_bitcoin'], label='Bitcoin', color='orange')\n",
    "plt.plot(df_combined['date'], df_combined['price_gold'], label='Oro', color='gold')\n",
    "plt.plot(df_combined['date'], df_combined['price_sp500'], label='S&P 500', color='blue')\n",
    "\n",
    "plt.title('Evolución de los Precios: Bitcoin, Oro y S&P 500')\n",
    "plt.xlabel('Fecha')\n",
    "plt.ylabel('Precio ($)')\n",
    "plt.legend()\n",
    "plt.grid(True)\n",
    "plt.show()"
   ]
  },
  {
   "cell_type": "markdown",
   "metadata": {},
   "source": [
    "##### Retorno de la Inversión con $100 Mensuales\n",
    "- Gráfico: Gráfico de líneas que muestra cómo habría crecido una inversión de $100 mensuales en bitcoin, oro y S&P 500.\n",
    "- Justificación: Este gráfico es el \"wow factor\" para la audiencia. Visualiza cómo una inversión constante (dólar-cost averaging) puede dar lugar a grandes rendimientos a largo plazo, especialmente en bitcoin. Es una manera sencilla de conectar con la audiencia, demostrando que una estrategia de inversión pequeña y constante puede ser efectiva, incluso para activos volátiles."
   ]
  },
  {
   "cell_type": "code",
   "execution_count": null,
   "metadata": {},
   "outputs": [],
   "source": [
    "plt.plot(df_combined['date'], df_combined['investment_bitcoin'], label='Inversión en Bitcoin', color='orange')\n",
    "plt.plot(df_combined['date'], df_combined['investment_gold'], label='Inversión en Oro', color='gold')\n",
    "plt.plot(df_combined['date'], df_combined['investment_sp500'], label='Inversión en S&P 500', color='blue')\n",
    "plt.title('Evolución de una Inversión de $100 mensuales en Bitcoin, Oro y S&P 500')\n",
    "plt.xlabel('Fecha')\n",
    "plt.ylabel('Valor de la inversión ($)')\n",
    "plt.legend()\n",
    "plt.grid(True)\n",
    "plt.show()"
   ]
  },
  {
   "cell_type": "markdown",
   "metadata": {},
   "source": [
    "##### Relación entre Volatilidad (VIX) y Precios de Bitcoin y Oro\n",
    "- Gráfico: Gráfico de líneas que compara el Índice de Volatilidad (VIX) con los precios de bitcoin y oro.\n",
    "- Justificación: Este gráfico te permitirá explicar cómo los momentos de alta volatilidad en los mercados (medidos con el VIX) afectan a los precios de bitcoin y oro. Aquí se puede argumentar que el oro, históricamente un refugio seguro, tiende a comportarse mejor en tiempos de incertidumbre en comparación con bitcoin."
   ]
  },
  {
   "cell_type": "code",
   "execution_count": null,
   "metadata": {},
   "outputs": [],
   "source": [
    "fig, ax1 = plt.subplots()\n",
    "ax2 = ax1.twinx()\n",
    "ax1.plot(df_combined['date'], df_combined['vix'], color='green')\n",
    "ax2.plot(df_combined['date'], df_combined['price_bitcoin'], color='orange', label='Bitcoin')\n",
    "ax2.plot(df_combined['date'], df_combined['price_gold'], color='gold', label='Oro')\n",
    "ax1.set_xlabel('Fecha')\n",
    "ax1.set_ylabel('VIX', color='green')\n",
    "ax2.set_ylabel('Precio ($)', color='blue')\n",
    "plt.title('VIX (Volatilidad) vs Precio de Bitcoin y Oro')\n",
    "plt.grid(True)\n",
    "plt.show()"
   ]
  },
  {
   "cell_type": "markdown",
   "metadata": {},
   "source": [
    "##### Inflación vs. Bitcoin y Oro\n",
    "- Gráfico: Gráfico de líneas que muestra la relación entre la inflación y los precios de bitcoin y oro.\n",
    "- Justificación: El análisis de cómo el oro y bitcoin reaccionan frente a la inflación es fundamental para comprender su potencial como refugios de valor. El oro históricamente ha protegido contra la inflación, pero bitcoin está siendo percibido por algunos como el \"oro digital\". Este gráfico ayudará a respaldar o refutar esa hipótesis."
   ]
  },
  {
   "cell_type": "code",
   "execution_count": null,
   "metadata": {},
   "outputs": [],
   "source": [
    "plt.plot(df_combined['date'], df_combined['inflation'], label='Inflación', color='red', linestyle='--')\n",
    "plt.plot(df_combined['date'], df_combined['price_bitcoin'], label='Bitcoin', color='orange')\n",
    "plt.plot(df_combined['date'], df_combined['price_gold'], label='Oro', color='gold')\n",
    "plt.title('Comparación del Precio de Bitcoin y Oro con la Inflación')\n",
    "plt.xlabel('Fecha')\n",
    "plt.ylabel('Precio / Inflación (%)')\n",
    "plt.legend()\n",
    "plt.grid(True)\n",
    "plt.show()"
   ]
  },
  {
   "cell_type": "markdown",
   "metadata": {},
   "source": [
    "##### Mapa de Calor de Correlaciones\n",
    "- Gráfico: Mapa de calor que muestra la correlación entre diferentes variables (precios de bitcoin, oro, S&P 500, VIX, inflación, tasa de interés).\n",
    "- Justificación: Este gráfico es clave para identificar relaciones fuertes entre diferentes variables. Ayuda a la audiencia a ver qué tan relacionados están los precios de los activos con factores macroeconómicos como la inflación, el VIX y la tasa de interés. Es un gráfico que entrega un análisis global del contexto en que se mueven estos activos."
   ]
  },
  {
   "cell_type": "code",
   "execution_count": null,
   "metadata": {},
   "outputs": [],
   "source": [
    "import seaborn as sns\n",
    "corr_matrix = df_combined[['price_bitcoin', 'price_gold', 'price_sp500', 'vix', 'inflation', 'interest_rate']].corr()\n",
    "plt.figure(figsize=(10, 6))\n",
    "sns.heatmap(corr_matrix, annot=True, cmap=\"coolwarm\", vmin=-1, vmax=1)\n",
    "plt.title('Mapa de Calor de Correlación entre Variables')\n",
    "plt.show()"
   ]
  },
  {
   "cell_type": "code",
   "execution_count": null,
   "metadata": {},
   "outputs": [],
   "source": [
    "# Tasa de interés de la Reserva Federal.\n",
    "plt.figure(figsize=(10, 6))\n",
    "plt.plot(df_combined['date'], df_combined['interest_rate'], marker='o')\n",
    "plt.title('Evolución de la tasa de interés de la Reserva Federal')\n",
    "plt.xlabel('Fecha')\n",
    "plt.ylabel('Tasa de interés (%)')\n",
    "plt.grid(True)\n",
    "plt.show()"
   ]
  },
  {
   "cell_type": "code",
   "execution_count": null,
   "metadata": {},
   "outputs": [],
   "source": [
    "# CPI e inflación.\n",
    "def visualizar_cpi_inflation(df_combined):\n",
    "    plt.figure(figsize=(10, 6))\n",
    "\n",
    "    # Graficar la interpolación diaria del CPI\n",
    "    plt.plot(df_combined['date'], df_combined['cpi'], label='CPI Diario Interpolado', color='blue')\n",
    "\n",
    "    # Graficar la inflación interpolada\n",
    "    plt.plot(df_combined['date'], df_combined['inflation'], label='Inflación Interpolada', color='green')\n",
    "\n",
    "    # Etiquetas y título del gráfico\n",
    "    plt.title('Evolución diaria del CPI e Inflación')\n",
    "    plt.xlabel('Fecha')\n",
    "    plt.ylabel('Valor')\n",
    "    plt.legend()\n",
    "    plt.grid(True)\n",
    "    plt.show()\n",
    "\n",
    "# Llamar a la función para visualizar el CPI e inflación en el dataframe combinado\n",
    "visualizar_cpi_inflation(df_combined)"
   ]
  }
 ],
 "metadata": {
  "kernelspec": {
   "display_name": "gold_bitcoin_sp500",
   "language": "python",
   "name": "python3"
  },
  "language_info": {
   "codemirror_mode": {
    "name": "ipython",
    "version": 3
   },
   "file_extension": ".py",
   "mimetype": "text/x-python",
   "name": "python",
   "nbconvert_exporter": "python",
   "pygments_lexer": "ipython3",
   "version": "3.12.5"
  }
 },
 "nbformat": 4,
 "nbformat_minor": 2
}
